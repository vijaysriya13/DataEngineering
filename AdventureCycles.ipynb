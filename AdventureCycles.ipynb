{
  "nbformat": 4,
  "nbformat_minor": 0,
  "metadata": {
    "colab": {
      "provenance": [],
      "authorship_tag": "ABX9TyPhpwp3ntSnPGhkUVk7K6TK",
      "include_colab_link": true
    },
    "kernelspec": {
      "name": "python3",
      "display_name": "Python 3"
    },
    "language_info": {
      "name": "python"
    }
  },
  "cells": [
    {
      "cell_type": "markdown",
      "metadata": {
        "id": "view-in-github",
        "colab_type": "text"
      },
      "source": [
        "<a href=\"https://colab.research.google.com/github/vijaysriya13/DataEngineering/blob/Trials/AdventureCycles.ipynb\" target=\"_parent\"><img src=\"https://colab.research.google.com/assets/colab-badge.svg\" alt=\"Open In Colab\"/></a>"
      ]
    },
    {
      "cell_type": "code",
      "execution_count": 1,
      "metadata": {
        "id": "SqKy_DTwf-w_"
      },
      "outputs": [],
      "source": [
        "import pandas as pd"
      ]
    },
    {
      "cell_type": "code",
      "source": [
        "url_address = 'https://raw.githubusercontent.com/Kiran-255666/AdventureWorks/main/Adventureworks/SalesLT.Address.csv'\n",
        "url_customer = 'https://raw.githubusercontent.com/Kiran-255666/AdventureWorks/main/Adventureworks/SalesLT.Customer.csv'\n",
        "url_customer_addr = 'https://raw.githubusercontent.com/Kiran-255666/AdventureWorks/main/Adventureworks/SalesLT.CustomerAddress.csv'\n",
        "url_product = 'https://raw.githubusercontent.com/Kiran-255666/AdventureWorks/main/Adventureworks/SalesLT.Product.csv'\n",
        "url_product_cat='https://raw.githubusercontent.com/Kiran-255666/AdventureWorks/main/Adventureworks/SalesLT.ProductCategory.csv'\n",
        "url_product_desc='https://raw.githubusercontent.com/Kiran-255666/AdventureWorks/main/Adventureworks/SalesLT.ProductDescription.csv'\n",
        "url_product_model='https://raw.githubusercontent.com/Kiran-255666/AdventureWorks/main/Adventureworks/SalesLT.ProductModel.csv'\n",
        "url_prod_model_desc='https://raw.githubusercontent.com/Kiran-255666/AdventureWorks/main/Adventureworks/SalesLT.ProductModelProductDescription.csv'\n",
        "url_sales_order_det='https://raw.githubusercontent.com/Kiran-255666/AdventureWorks/main/Adventureworks/SalesLT.SalesOrderDetail.csv'\n",
        "url_sales_order_head='https://raw.githubusercontent.com/Kiran-255666/AdventureWorks/main/Adventureworks/SalesLT.SalesOrderHeader.csv'\n",
        "\n",
        "df_address = pd.read_csv(url_address,encoding='latin-1')\n",
        "df_customer = pd.read_csv(url_customer,encoding='latin-1')\n",
        "df_product_desc = pd.read_csv(url_product_desc,encoding='latin-1')\n",
        "df_customer_addr = pd.read_csv(url_customer_addr)\n",
        "df_product = pd.read_csv(url_product)\n",
        "df_product_cat = pd.read_csv(url_product_cat)\n",
        "df_product_model = pd.read_csv(url_product_model)\n",
        "df_prod_model_desc = pd.read_csv(url_prod_model_desc)\n",
        "df_sales_order_det = pd.read_csv(url_sales_order_det)\n",
        "df_sales_order_head = pd.read_csv(url_sales_order_head)"
      ],
      "metadata": {
        "id": "V3ggHpS9gFZm"
      },
      "execution_count": 2,
      "outputs": []
    },
    {
      "cell_type": "code",
      "source": [],
      "metadata": {
        "id": "QPTFLW66gNVT"
      },
      "execution_count": null,
      "outputs": []
    }
  ]
}